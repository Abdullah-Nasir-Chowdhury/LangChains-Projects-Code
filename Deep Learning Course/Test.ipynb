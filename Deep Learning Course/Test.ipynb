{
 "cells": [
  {
   "cell_type": "code",
   "execution_count": 33,
   "metadata": {},
   "outputs": [],
   "source": [
    "import openai, os, langchain\n",
    "from dotenv.main import load_dotenv\n",
    "\n",
    "main.load_dotenv()\n",
    "\n",
    "openai.api_key = os.getenv(\"OPENAI_API_KEY\")\n",
    "\n",
    "from langchain.memory import ConversationBufferMemory, ConversationBufferWindowMemory, ConversationTokenBufferMemory, ConversationSummaryBufferMemory\n",
    "from langchain.chains import ConversationChain\n",
    "import warnings\n",
    "warnings.filterwarnings('ignore')"
   ]
  },
  {
   "cell_type": "code",
   "execution_count": 34,
   "metadata": {},
   "outputs": [],
   "source": [
    "from langchain.chat_models import ChatOpenAI\n",
    "memory = ConversationBufferMemory()\n",
    "llm = ChatOpenAI(temperature=0.0, model='gpt-3.5-turbo')\n",
    "conversation=ConversationChain(\n",
    "    llm = llm,\n",
    "    memory=memory,\n",
    "    verbose = True\n",
    ")"
   ]
  },
  {
   "cell_type": "code",
   "execution_count": 35,
   "metadata": {},
   "outputs": [
    {
     "name": "stdout",
     "output_type": "stream",
     "text": [
      "\n",
      "\n",
      "\u001b[1m> Entering new ConversationChain chain...\u001b[0m\n",
      "Prompt after formatting:\n",
      "\u001b[32;1m\u001b[1;3mThe following is a friendly conversation between a human and an AI. The AI is talkative and provides lots of specific details from its context. If the AI does not know the answer to a question, it truthfully says it does not know.\n",
      "\n",
      "Current conversation:\n",
      "\n",
      "Human: Hello! My name is Abdullah!\n",
      "AI:\u001b[0m\n",
      "\n",
      "\u001b[1m> Finished chain.\u001b[0m\n"
     ]
    },
    {
     "data": {
      "text/plain": [
       "\"Hello Abdullah! It's nice to meet you. How can I assist you today?\""
      ]
     },
     "execution_count": 35,
     "metadata": {},
     "output_type": "execute_result"
    }
   ],
   "source": [
    "conversation.predict(input=\"Hello! My name is Abdullah!\")"
   ]
  },
  {
   "cell_type": "code",
   "execution_count": 36,
   "metadata": {},
   "outputs": [
    {
     "name": "stdout",
     "output_type": "stream",
     "text": [
      "Human: Hello! My name is Abdullah!\n",
      "AI: Hello Abdullah! It's nice to meet you. How can I assist you today?\n"
     ]
    }
   ],
   "source": [
    "print(memory.buffer)"
   ]
  },
  {
   "cell_type": "code",
   "execution_count": 37,
   "metadata": {},
   "outputs": [
    {
     "data": {
      "text/plain": [
       "{'history': \"Human: Hello! My name is Abdullah!\\nAI: Hello Abdullah! It's nice to meet you. How can I assist you today?\"}"
      ]
     },
     "execution_count": 37,
     "metadata": {},
     "output_type": "execute_result"
    }
   ],
   "source": [
    "memory.load_memory_variables({})"
   ]
  },
  {
   "cell_type": "code",
   "execution_count": 38,
   "metadata": {},
   "outputs": [],
   "source": [
    "memory.save_context({'input':'Hi'},{'output':'wassup'})"
   ]
  },
  {
   "cell_type": "code",
   "execution_count": 39,
   "metadata": {},
   "outputs": [
    {
     "data": {
      "text/plain": [
       "\"Human: Hello! My name is Abdullah!\\nAI: Hello Abdullah! It's nice to meet you. How can I assist you today?\\nHuman: Hi\\nAI: wassup\""
      ]
     },
     "execution_count": 39,
     "metadata": {},
     "output_type": "execute_result"
    }
   ],
   "source": [
    "memory.buffer"
   ]
  },
  {
   "cell_type": "code",
   "execution_count": 40,
   "metadata": {},
   "outputs": [
    {
     "name": "stdout",
     "output_type": "stream",
     "text": [
      "Human: Hello! My name is Abdullah!\n",
      "AI: Hello Abdullah! It's nice to meet you. How can I assist you today?\n",
      "Human: Hi\n",
      "AI: wassup\n"
     ]
    }
   ],
   "source": [
    "print(memory.buffer)"
   ]
  },
  {
   "cell_type": "code",
   "execution_count": 42,
   "metadata": {},
   "outputs": [
    {
     "name": "stdout",
     "output_type": "stream",
     "text": [
      "\n",
      "\n",
      "\u001b[1m> Entering new ConversationChain chain...\u001b[0m\n",
      "Prompt after formatting:\n",
      "\u001b[32;1m\u001b[1;3mThe following is a friendly conversation between a human and an AI. The AI is talkative and provides lots of specific details from its context. If the AI does not know the answer to a question, it truthfully says it does not know.\n",
      "\n",
      "Current conversation:\n",
      "Human: Hello! My name is Abdullah!\n",
      "AI: Hello Abdullah! It's nice to meet you. How can I assist you today?\n",
      "Human: Hi\n",
      "AI: wassup\n",
      "Human: Hi, my name is Abdullah!\n",
      "AI: Hello Abdullah! It's nice to meet you. How can I assist you today?\n",
      "Human: Hi, my name is Abdullah!\n",
      "AI:\u001b[0m\n",
      "\n",
      "\u001b[1m> Finished chain.\u001b[0m\n",
      "\n",
      "\n",
      "\u001b[1m> Entering new ConversationChain chain...\u001b[0m\n",
      "Prompt after formatting:\n",
      "\u001b[32;1m\u001b[1;3mThe following is a friendly conversation between a human and an AI. The AI is talkative and provides lots of specific details from its context. If the AI does not know the answer to a question, it truthfully says it does not know.\n",
      "\n",
      "Current conversation:\n",
      "Human: Hello! My name is Abdullah!\n",
      "AI: Hello Abdullah! It's nice to meet you. How can I assist you today?\n",
      "Human: Hi\n",
      "AI: wassup\n",
      "Human: Hi, my name is Abdullah!\n",
      "AI: Hello Abdullah! It's nice to meet you. How can I assist you today?\n",
      "Human: Hi, my name is Abdullah!\n",
      "AI: Hello Abdullah! It's nice to meet you. How can I assist you today?\n",
      "Human: I am a graduate from the field of Electrical and Electronics Engineering with no hope in life.\n",
      "AI:\u001b[0m\n",
      "\n",
      "\u001b[1m> Finished chain.\u001b[0m\n",
      "\n",
      "\n",
      "\u001b[1m> Entering new ConversationChain chain...\u001b[0m\n",
      "Prompt after formatting:\n",
      "\u001b[32;1m\u001b[1;3mThe following is a friendly conversation between a human and an AI. The AI is talkative and provides lots of specific details from its context. If the AI does not know the answer to a question, it truthfully says it does not know.\n",
      "\n",
      "Current conversation:\n",
      "Human: Hello! My name is Abdullah!\n",
      "AI: Hello Abdullah! It's nice to meet you. How can I assist you today?\n",
      "Human: Hi\n",
      "AI: wassup\n",
      "Human: Hi, my name is Abdullah!\n",
      "AI: Hello Abdullah! It's nice to meet you. How can I assist you today?\n",
      "Human: Hi, my name is Abdullah!\n",
      "AI: Hello Abdullah! It's nice to meet you. How can I assist you today?\n",
      "Human: I am a graduate from the field of Electrical and Electronics Engineering with no hope in life.\n",
      "AI: I'm sorry to hear that you're feeling hopeless. It's important to remember that everyone goes through ups and downs in life. If you're feeling stuck or unsure about your career path, it might be helpful to explore different options or seek guidance from a career counselor or mentor. Remember that it's never too late to make a change and find fulfillment in your life.\n",
      "Human: Write down a roadmap for me, to become an AI Engineer in 3 months!\n",
      "AI:\u001b[0m\n",
      "\n",
      "\u001b[1m> Finished chain.\u001b[0m\n",
      "\n",
      "\n",
      "\u001b[1m> Entering new ConversationChain chain...\u001b[0m\n",
      "Prompt after formatting:\n",
      "\u001b[32;1m\u001b[1;3mThe following is a friendly conversation between a human and an AI. The AI is talkative and provides lots of specific details from its context. If the AI does not know the answer to a question, it truthfully says it does not know.\n",
      "\n",
      "Current conversation:\n",
      "Human: Hello! My name is Abdullah!\n",
      "AI: Hello Abdullah! It's nice to meet you. How can I assist you today?\n",
      "Human: Hi\n",
      "AI: wassup\n",
      "Human: Hi, my name is Abdullah!\n",
      "AI: Hello Abdullah! It's nice to meet you. How can I assist you today?\n",
      "Human: Hi, my name is Abdullah!\n",
      "AI: Hello Abdullah! It's nice to meet you. How can I assist you today?\n",
      "Human: I am a graduate from the field of Electrical and Electronics Engineering with no hope in life.\n",
      "AI: I'm sorry to hear that you're feeling hopeless. It's important to remember that everyone goes through ups and downs in life. If you're feeling stuck or unsure about your career path, it might be helpful to explore different options or seek guidance from a career counselor or mentor. Remember that it's never too late to make a change and find fulfillment in your life.\n",
      "Human: Write down a roadmap for me, to become an AI Engineer in 3 months!\n",
      "AI: Becoming an AI engineer in just three months is quite ambitious, but I can certainly provide you with a roadmap to get started on your journey. Here are some steps you can take:\n",
      "\n",
      "1. Gain a solid foundation in programming: Start by learning a programming language such as Python, which is widely used in the field of AI. There are many online resources and tutorials available to help you get started.\n",
      "\n",
      "2. Learn the basics of machine learning: Familiarize yourself with the fundamental concepts of machine learning, such as supervised and unsupervised learning, regression, classification, and clustering. You can find online courses and tutorials to help you understand these concepts.\n",
      "\n",
      "3. Dive into deep learning: Deep learning is a subset of machine learning that focuses on neural networks. Learn about popular deep learning frameworks like TensorFlow or PyTorch and explore topics such as convolutional neural networks (CNNs) and recurrent neural networks (RNNs).\n",
      "\n",
      "4. Practice with real-world datasets: Find datasets related to your interests and apply what you've learned by building and training machine learning models. Kaggle is a great platform for finding datasets and participating in machine learning competitions.\n",
      "\n",
      "5. Stay updated with the latest research and trends: Follow AI blogs, read research papers, and join online communities to stay informed about the latest advancements in the field. This will help you stay ahead and continue learning.\n",
      "\n",
      "6. Build a portfolio: Create projects that showcase your skills and knowledge in AI. This could be anything from developing a chatbot to creating a recommendation system. Having a portfolio will demonstrate your abilities to potential employers.\n",
      "\n",
      "7. Network and collaborate: Attend AI meetups, conferences, and workshops to connect with professionals in the field. Collaborating with others on AI projects can also help you learn and grow.\n",
      "\n",
      "Remember, becoming an AI engineer requires continuous learning and practice. Three months may not be enough time to become an expert, but by following this roadmap, you can certainly lay a strong foundation and start your journey towards becoming an AI engineer.\n",
      "Human: Do you still remember me?\n",
      "AI:\u001b[0m\n",
      "\n",
      "\u001b[1m> Finished chain.\u001b[0m\n"
     ]
    },
    {
     "data": {
      "text/plain": [
       "'Yes, I remember you, Abdullah! We just had a conversation a few minutes ago. How can I assist you further?'"
      ]
     },
     "execution_count": 42,
     "metadata": {},
     "output_type": "execute_result"
    }
   ],
   "source": [
    "# Conversation Buffer Window Memory\n",
    "\n",
    "from langchain.memory import ConversationBufferWindowMemory\n",
    "from langchain.chains import ConversationChain\n",
    "from langchain.chat_models import ChatOpenAI\n",
    "\n",
    "memory = ConversationBufferWindowMemory(k=2)\n",
    "llm = ChatOpenAI(temperature=0.0, model='gpt-3.5-turbo')\n",
    "chain = ConversationChain(llm = llm, memory=memory, verbose=True)\n",
    "\n",
    "conversation.predict(input=\"Hi, my name is Abdullah!\")\n",
    "conversation.predict(input=\"I am a graduate from the field of Electrical and Electronics Engineering with no hope in life.\")\n",
    "conversation.predict(input='Write down a roadmap for me, to become an AI Engineer in 3 months!')\n",
    "conversation.predict(input='Do you still remember me?')"
   ]
  },
  {
   "cell_type": "code",
   "execution_count": 43,
   "metadata": {},
   "outputs": [
    {
     "name": "stdout",
     "output_type": "stream",
     "text": [
      "\n",
      "\n",
      "\u001b[1m> Entering new ConversationChain chain...\u001b[0m\n",
      "Prompt after formatting:\n",
      "\u001b[32;1m\u001b[1;3mThe following is a friendly conversation between a human and an AI. The AI is talkative and provides lots of specific details from its context. If the AI does not know the answer to a question, it truthfully says it does not know.\n",
      "\n",
      "Current conversation:\n",
      "\n",
      "Human: Hi, my name is Abdullah!, How long would it take for someone dumb to learn AI and get into AI engineering?\n",
      "AI:\u001b[0m\n",
      "\n",
      "\u001b[1m> Finished chain.\u001b[0m\n"
     ]
    },
    {
     "data": {
      "text/plain": [
       "\"Hi Abdullah! It's great to meet you. Learning AI and getting into AI engineering can vary depending on a few factors. Generally, it takes time and dedication to acquire the necessary knowledge and skills. Some people may be able to learn the basics of AI within a few months, while others may take several years to become proficient. It also depends on your prior knowledge and experience in related fields such as programming, mathematics, and statistics. Additionally, the field of AI is constantly evolving, so ongoing learning and staying updated with the latest advancements is crucial.\""
      ]
     },
     "execution_count": 43,
     "metadata": {},
     "output_type": "execute_result"
    }
   ],
   "source": [
    "from langchain.chat_models import ChatOpenAI\n",
    "from langchain.memory import ConversationBufferWindowMemory\n",
    "from langchain.chains import ConversationChain\n",
    "\n",
    "memory = ConversationBufferWindowMemory(k=1)\n",
    "chat = ChatOpenAI(temperature=0.0, model='gpt-3.5-turbo')\n",
    "chain = ConversationChain(llm=chat, memory=memory, verbose=True)\n",
    "\n",
    "chain.predict(input=\"Hi, my name is Abdullah!, How long would it take for someone dumb to learn AI and get into AI engineering?\")"
   ]
  },
  {
   "cell_type": "code",
   "execution_count": 44,
   "metadata": {},
   "outputs": [
    {
     "name": "stdout",
     "output_type": "stream",
     "text": [
      "\n",
      "\n",
      "\u001b[1m> Entering new ConversationChain chain...\u001b[0m\n",
      "Prompt after formatting:\n",
      "\u001b[32;1m\u001b[1;3mThe following is a friendly conversation between a human and an AI. The AI is talkative and provides lots of specific details from its context. If the AI does not know the answer to a question, it truthfully says it does not know.\n",
      "\n",
      "Current conversation:\n",
      "Human: Hi, my name is Abdullah!, How long would it take for someone dumb to learn AI and get into AI engineering?\n",
      "AI: Hi Abdullah! It's great to meet you. Learning AI and getting into AI engineering can vary depending on a few factors. Generally, it takes time and dedication to acquire the necessary knowledge and skills. Some people may be able to learn the basics of AI within a few months, while others may take several years to become proficient. It also depends on your prior knowledge and experience in related fields such as programming, mathematics, and statistics. Additionally, the field of AI is constantly evolving, so ongoing learning and staying updated with the latest advancements is crucial.\n",
      "Human: Suppose, I want to learn the math for AI Engineering from beginner to pro, do you have any roadmaps for me, so that I can grind to learn the math?\n",
      "AI:\u001b[0m\n"
     ]
    },
    {
     "name": "stderr",
     "output_type": "stream",
     "text": [
      "Retrying langchain.chat_models.openai.ChatOpenAI.completion_with_retry.<locals>._completion_with_retry in 4.0 seconds as it raised Timeout: Request timed out: HTTPSConnectionPool(host='api.openai.com', port=443): Read timed out. (read timeout=600).\n"
     ]
    },
    {
     "name": "stdout",
     "output_type": "stream",
     "text": [
      "\n",
      "\u001b[1m> Finished chain.\u001b[0m\n"
     ]
    },
    {
     "data": {
      "text/plain": [
       "\"Absolutely! Learning the math for AI engineering is an important step in becoming proficient in the field. Here's a roadmap that can help you get started:\\n\\n1. Start with the basics: Begin by building a strong foundation in mathematics. This includes studying algebra, calculus, and linear algebra. These topics are fundamental to understanding the mathematical concepts used in AI.\\n\\n2. Dive into probability and statistics: Probability theory and statistics play a crucial role in AI. Familiarize yourself with concepts such as probability distributions, hypothesis testing, and regression analysis. Understanding these concepts will help you analyze and interpret data in AI applications.\\n\\n3. Learn optimization techniques: Optimization is a key component of AI algorithms. Study optimization methods like gradient descent, convex optimization, and stochastic optimization. These techniques are used to train machine learning models and improve their performance.\\n\\n4. Explore numerical methods: Numerical methods are used to solve complex mathematical problems in AI. Learn about numerical integration, interpolation, and solving differential equations. These techniques are essential for implementing algorithms and simulations in AI.\\n\\n5. Study linear algebra in depth: Linear algebra is the backbone of many AI algorithms. Dive deeper into topics like matrix operations, eigenvectors, and eigenvalues. Understanding linear algebra will enable you to work with high-dimensional data and perform operations on matrices efficiently.\\n\\n6. Familiarize yourself with calculus: Calculus is used extensively in AI, especially in optimization and machine learning. Study topics like derivatives, gradients, and partial derivatives. These concepts will help you understand the mathematical foundations of AI algorithms.\\n\\n7. Explore advanced topics: Once you have a solid understanding of the basics, you can delve into more advanced topics like deep learning, reinforcement learning, and Bayesian statistics. These areas are at the forefront of AI research and can provide you with a deeper understanding of the field.\\n\\nRemember, learning math for AI engineering is a continuous process. As you progress, make sure to practice implementing mathematical concepts in programming languages like Python and utilize resources such as online courses, textbooks, and tutorials to enhance your understanding. Good luck on your learning journey!\""
      ]
     },
     "execution_count": 44,
     "metadata": {},
     "output_type": "execute_result"
    }
   ],
   "source": [
    "chain.predict(input=\"Suppose, I want to learn the math for AI Engineering from beginner to pro, do you have any roadmaps for me, so that I can grind to learn the math?\")"
   ]
  },
  {
   "cell_type": "code",
   "execution_count": 45,
   "metadata": {},
   "outputs": [
    {
     "data": {
      "text/plain": [
       "{'history': \"Human: Suppose, I want to learn the math for AI Engineering from beginner to pro, do you have any roadmaps for me, so that I can grind to learn the math?\\nAI: Absolutely! Learning the math for AI engineering is an important step in becoming proficient in the field. Here's a roadmap that can help you get started:\\n\\n1. Start with the basics: Begin by building a strong foundation in mathematics. This includes studying algebra, calculus, and linear algebra. These topics are fundamental to understanding the mathematical concepts used in AI.\\n\\n2. Dive into probability and statistics: Probability theory and statistics play a crucial role in AI. Familiarize yourself with concepts such as probability distributions, hypothesis testing, and regression analysis. Understanding these concepts will help you analyze and interpret data in AI applications.\\n\\n3. Learn optimization techniques: Optimization is a key component of AI algorithms. Study optimization methods like gradient descent, convex optimization, and stochastic optimization. These techniques are used to train machine learning models and improve their performance.\\n\\n4. Explore numerical methods: Numerical methods are used to solve complex mathematical problems in AI. Learn about numerical integration, interpolation, and solving differential equations. These techniques are essential for implementing algorithms and simulations in AI.\\n\\n5. Study linear algebra in depth: Linear algebra is the backbone of many AI algorithms. Dive deeper into topics like matrix operations, eigenvectors, and eigenvalues. Understanding linear algebra will enable you to work with high-dimensional data and perform operations on matrices efficiently.\\n\\n6. Familiarize yourself with calculus: Calculus is used extensively in AI, especially in optimization and machine learning. Study topics like derivatives, gradients, and partial derivatives. These concepts will help you understand the mathematical foundations of AI algorithms.\\n\\n7. Explore advanced topics: Once you have a solid understanding of the basics, you can delve into more advanced topics like deep learning, reinforcement learning, and Bayesian statistics. These areas are at the forefront of AI research and can provide you with a deeper understanding of the field.\\n\\nRemember, learning math for AI engineering is a continuous process. As you progress, make sure to practice implementing mathematical concepts in programming languages like Python and utilize resources such as online courses, textbooks, and tutorials to enhance your understanding. Good luck on your learning journey!\"}"
      ]
     },
     "execution_count": 45,
     "metadata": {},
     "output_type": "execute_result"
    }
   ],
   "source": [
    "memory.load_memory_variables({})"
   ]
  },
  {
   "cell_type": "code",
   "execution_count": 47,
   "metadata": {},
   "outputs": [
    {
     "data": {
      "text/plain": [
       "\"Human: Suppose, I want to learn the math for AI Engineering from beginner to pro, do you have any roadmaps for me, so that I can grind to learn the math?\\nAI: Absolutely! Learning the math for AI engineering is an important step in becoming proficient in the field. Here's a roadmap that can help you get started:\\n\\n1. Start with the basics: Begin by building a strong foundation in mathematics. This includes studying algebra, calculus, and linear algebra. These topics are fundamental to understanding the mathematical concepts used in AI.\\n\\n2. Dive into probability and statistics: Probability theory and statistics play a crucial role in AI. Familiarize yourself with concepts such as probability distributions, hypothesis testing, and regression analysis. Understanding these concepts will help you analyze and interpret data in AI applications.\\n\\n3. Learn optimization techniques: Optimization is a key component of AI algorithms. Study optimization methods like gradient descent, convex optimization, and stochastic optimization. These techniques are used to train machine learning models and improve their performance.\\n\\n4. Explore numerical methods: Numerical methods are used to solve complex mathematical problems in AI. Learn about numerical integration, interpolation, and solving differential equations. These techniques are essential for implementing algorithms and simulations in AI.\\n\\n5. Study linear algebra in depth: Linear algebra is the backbone of many AI algorithms. Dive deeper into topics like matrix operations, eigenvectors, and eigenvalues. Understanding linear algebra will enable you to work with high-dimensional data and perform operations on matrices efficiently.\\n\\n6. Familiarize yourself with calculus: Calculus is used extensively in AI, especially in optimization and machine learning. Study topics like derivatives, gradients, and partial derivatives. These concepts will help you understand the mathematical foundations of AI algorithms.\\n\\n7. Explore advanced topics: Once you have a solid understanding of the basics, you can delve into more advanced topics like deep learning, reinforcement learning, and Bayesian statistics. These areas are at the forefront of AI research and can provide you with a deeper understanding of the field.\\n\\nRemember, learning math for AI engineering is a continuous process. As you progress, make sure to practice implementing mathematical concepts in programming languages like Python and utilize resources such as online courses, textbooks, and tutorials to enhance your understanding. Good luck on your learning journey!\""
      ]
     },
     "execution_count": 47,
     "metadata": {},
     "output_type": "execute_result"
    }
   ],
   "source": [
    "memory.buffer"
   ]
  },
  {
   "cell_type": "code",
   "execution_count": 51,
   "metadata": {},
   "outputs": [
    {
     "name": "stdout",
     "output_type": "stream",
     "text": [
      "Human: Suppose, I want to learn the math for AI Engineering from beginner to pro, do you have any roadmaps for me, so that I can grind to learn the math?\n",
      "AI: Absolutely! Learning the math for AI engineering is an important step in becoming proficient in the field. Here's a roadmap that can help you get started:\n",
      "\n",
      "1. Start with the basics: Begin by building a strong foundation in mathematics. This includes studying algebra, calculus, and linear algebra. These topics are fundamental to understanding the mathematical concepts used in AI.\n",
      "\n",
      "2. Dive into probability and statistics: Probability theory and statistics play a crucial role in AI. Familiarize yourself with concepts such as probability distributions, hypothesis testing, and regression analysis. Understanding these concepts will help you analyze and interpret data in AI applications.\n",
      "\n",
      "3. Learn optimization techniques: Optimization is a key component of AI algorithms. Study optimization methods like gradient descent, convex optimization, and stochastic optimization. These techniques are used to train machine learning models and improve their performance.\n",
      "\n",
      "4. Explore numerical methods: Numerical methods are used to solve complex mathematical problems in AI. Learn about numerical integration, interpolation, and solving differential equations. These techniques are essential for implementing algorithms and simulations in AI.\n",
      "\n",
      "5. Study linear algebra in depth: Linear algebra is the backbone of many AI algorithms. Dive deeper into topics like matrix operations, eigenvectors, and eigenvalues. Understanding linear algebra will enable you to work with high-dimensional data and perform operations on matrices efficiently.\n",
      "\n",
      "6. Familiarize yourself with calculus: Calculus is used extensively in AI, especially in optimization and machine learning. Study topics like derivatives, gradients, and partial derivatives. These concepts will help you understand the mathematical foundations of AI algorithms.\n",
      "\n",
      "7. Explore advanced topics: Once you have a solid understanding of the basics, you can delve into more advanced topics like deep learning, reinforcement learning, and Bayesian statistics. These areas are at the forefront of AI research and can provide you with a deeper understanding of the field.\n",
      "\n",
      "Remember, learning math for AI engineering is a continuous process. As you progress, make sure to practice implementing mathematical concepts in programming languages like Python and utilize resources such as online courses, textbooks, and tutorials to enhance your understanding. Good luck on your learning journey!\n"
     ]
    }
   ],
   "source": [
    "print(memory.buffer)"
   ]
  },
  {
   "cell_type": "code",
   "execution_count": null,
   "metadata": {},
   "outputs": [],
   "source": []
  }
 ],
 "metadata": {
  "kernelspec": {
   "display_name": "base",
   "language": "python",
   "name": "python3"
  },
  "language_info": {
   "codemirror_mode": {
    "name": "ipython",
    "version": 3
   },
   "file_extension": ".py",
   "mimetype": "text/x-python",
   "name": "python",
   "nbconvert_exporter": "python",
   "pygments_lexer": "ipython3",
   "version": "3.11.6"
  }
 },
 "nbformat": 4,
 "nbformat_minor": 2
}
